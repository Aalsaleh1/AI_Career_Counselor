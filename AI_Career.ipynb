

!pip install -q langchain langchain-core langchain-openai tiktoken

import os
import getpass
from langchain_openai import ChatOpenAI
from google.colab import userdata
from langchain_core.prompts import PromptTemplate
from langchain_core.output_parsers import StrOutputParser

openai_api_key = userdata.get("openAI")
os.environ["OPENAI_API_KEY"] = openai_api_key

llm = ChatOpenAI(
    model="gpt-4o-mini",
    temperature=0.4,
    )

user_data = {
    "name": "Alex",
    "skills": "Python programming, Data analysis, Problem solving, Communication",
    "interests": "Technology, Artificial Intelligence, Teaching, Solving real-world problems",
    "education": "Bachelor's degree in Computer Science",
    "experience": "2 years as a junior developer",
    "challenges": "Unsure if I should specialize in AI/ML or stay as a general software engineer"
}

career_prompt = PromptTemplate.from_template('''
You're a friendly and experienced career counselor with over 20 years of helping people find meaningful work.

Take a look at this person’s background and suggest 3 to 5 career options that genuinely match who they are.

Details:
- Skills: {skills}
- Interests: {interests}
- Education: {education}
- Experience: {experience}

For each career you suggest, include:
1. The job title (for example, "UX Designer" or "Data Analyst")
2. A short explanation of why it fits their background and interests
3. An estimated salary range
4. The most important skills they should work on
5. About how long it would take to get job-ready

Be realistic and encouraging. Focus on careers that align with their strengths and passions, and that feel achievable.

    input_variables=["skills", "interests", "education", "experience"]
)

''')
career_chain = career_prompt | llm | StrOutputParser()


learning_prompt = PromptTemplate.from_template('''
You're a supportive learning advisor who helps people take the next step in their careers.

Based on these career suggestions:

{career_suggestions}

Create a simple and realistic 6-week learning plan for the top recommended career.

Here’s the person's background:
- Skills: {skills}
- Education: {education}

Break the plan into three stages:

Weeks 1–2: Build the foundation
- Key topics to learn
- Free resources like blogs, YouTube, or documentation
- A small project to practice

Weeks 3–4: Grow your skills
- More advanced concepts
- Recommended courses (free or paid)
- A medium-sized project

Weeks 5–6: Specialize and apply
- Tools or frameworks to focus on
- A capstone project idea
- Suggestions for what to add to their portfolio

For each week, include:
- Learning goals
- Estimated time commitment
- Specific resources (with links if possible)
- Practice activities

Keep the plan practical and achievable. Make sure it feels doable for someone just starting out in this area.
''')
learning_chain = learning_prompt | llm | StrOutputParser()

motivation_prompt = PromptTemplate.from_template('''
You're a kind and supportive life coach who helps people believe in themselves.

Based on the career ideas and learning plan below, write a personal and motivational message to someone who is starting their journey.

Career suggestions:
{career_suggestions}

Learning plan:
{learning_plan}

Their current concern or challenge:
{challenges}

Your message should include:

1. Why this goal is achievable
   - Point out their unique strengths
   - Reassure them that this is a realistic and meaningful path

2. A real or realistic success story
   - Someone who made a similar transition
   - What they accomplished and how

3. A 30-day action plan
   - List 5 to 7 small steps they can take over the next month
   - Include how much time each step might take

4. A warm and inspiring closing
   - Remind them of what they’re capable of
   - Help them feel confident and motivated

Keep the tone positive, genuine, and grounded. Write like you're speaking directly to them.
''')
motivation_chain = motivation_prompt | llm | StrOutputParser()

career_suggestions = career_chain.invoke({
    "skills": user_data["skills"],
    "interests": user_data["interests"],
    "education": user_data["education"],
    "experience": user_data["experience"]
})
print(career_suggestions)
print("\n")

learning_plan = learning_chain.invoke({
    "career_suggestions": career_suggestions,
    "skills": user_data["skills"],
    "education": user_data["education"],

})

print(learning_plan)
print("\n")

motivation_message = motivation_chain.invoke({
    "career_suggestions": career_suggestions,
    "learning_plan": learning_plan,
    "challenges": user_data["challenges"]
})
print(motivation_message)
print("\n")

